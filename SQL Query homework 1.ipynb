{
 "cells": [
  {
   "cell_type": "markdown",
   "metadata": {},
   "source": [
    "Question 1)"
   ]
  },
  {
   "cell_type": "markdown",
   "metadata": {},
   "source": [
    "The Loss Prevention Specialist (LPS) at your job\n",
    "suspects a customer has stolen items from the store.\n",
    "The customer went to the self checkout line and\n",
    "purposely did not scan 5 items. He confronts the\n",
    "customer and they go to the back office. The\n",
    "customer swears by her innocence and says, “I paid\n",
    "for all of these items. Even the ones you think I stole.\n",
    "She then proceeds to tell the LPS the price of the\n",
    "items. What she doesn’t know is the LPS can use that\n",
    "information in a case against her, so he connects to\n",
    "their Point-of-Sale database to search for the most\n",
    "recent transactions of the prices she says the items\n",
    "are. The prices you remember her screaming out\n",
    "were $7.99, $5.99, $1.99 and $3.99 How would you\n",
    "use a SQL query to find the last 10 transactions of the\n",
    "items she supposedly paid for?\n"
   ]
  },
  {
   "cell_type": "markdown",
   "metadata": {},
   "source": [
    "Answer 1)"
   ]
  },
  {
   "cell_type": "markdown",
   "metadata": {},
   "source": [
    "Select the table which contains the transaction records, requesting the columns for items purchased, their price, and which checkout counter the transactions were processed from. Order the records in descending order based on time, so that the most recent are on the top of the column. Then based on which transactions are associated with her, the LPS can deduce which of the items the customer was intent on paying for, and which she had set aside to take without paying for.\n",
    "\n",
    "SELECT items, price, checkout_line, time_of_purchase\n",
    "FROM transaction_records\n",
    "GROUP BY time_of_purchase"
   ]
  },
  {
   "cell_type": "markdown",
   "metadata": {},
   "source": [
    "Question 2)"
   ]
  },
  {
   "cell_type": "markdown",
   "metadata": {},
   "source": [
    "As you know, all movies have a certain rating (G, PG,\n",
    "R, etc.). On average, about how many days do people\n",
    "usually rent movies of all the different ratings? Round\n",
    "to the nearest tenth of a decimal.\n",
    "NOTE: *Use multiple queries*"
   ]
  },
  {
   "cell_type": "markdown",
   "metadata": {},
   "source": [
    "Answer 2)"
   ]
  },
  {
   "cell_type": "markdown",
   "metadata": {},
   "source": [
    "not sure how to do pls send help"
   ]
  },
  {
   "cell_type": "markdown",
   "metadata": {},
   "source": [
    "Question 3)"
   ]
  },
  {
   "cell_type": "markdown",
   "metadata": {},
   "source": [
    "How many free rentals did our stores give away?"
   ]
  },
  {
   "cell_type": "markdown",
   "metadata": {},
   "source": [
    "Answer 3)"
   ]
  },
  {
   "cell_type": "markdown",
   "metadata": {},
   "source": [
    "24 free rentals were given away"
   ]
  },
  {
   "cell_type": "markdown",
   "metadata": {},
   "source": [
    "Question 4)"
   ]
  },
  {
   "cell_type": "markdown",
   "metadata": {},
   "source": [
    "How much money in total rental sales did ‘staff_id 1’\n",
    "make?"
   ]
  },
  {
   "cell_type": "markdown",
   "metadata": {},
   "source": [
    "Answer 4)"
   ]
  },
  {
   "cell_type": "markdown",
   "metadata": {},
   "source": [
    "30252.12"
   ]
  },
  {
   "cell_type": "markdown",
   "metadata": {},
   "source": [
    "Question 5)"
   ]
  },
  {
   "cell_type": "markdown",
   "metadata": {},
   "source": [
    "How much money has ‘customer_id 75’ spent with us\n",
    "so far?"
   ]
  },
  {
   "cell_type": "markdown",
   "metadata": {},
   "source": [
    "Answer 5)"
   ]
  },
  {
   "cell_type": "markdown",
   "metadata": {},
   "source": [
    "149.61"
   ]
  },
  {
   "cell_type": "markdown",
   "metadata": {},
   "source": [
    "Question 6)"
   ]
  },
  {
   "cell_type": "markdown",
   "metadata": {},
   "source": [
    "We’re currently running a promotion. The top 10\n",
    "customers who’ve spent the most money with us will\n",
    "receive a coupon for a free rental. How do we find\n",
    "them?"
   ]
  },
  {
   "cell_type": "markdown",
   "metadata": {},
   "source": [
    "Answer 6)"
   ]
  },
  {
   "cell_type": "markdown",
   "metadata": {},
   "source": [
    "select customer_id, sum(amount) \n",
    "from payment\n",
    "group by customer_id\n",
    "order by sum(amount) desc;\n",
    "\n",
    "select customer_id, first_name, last_name\n",
    "from customers\n",
    "where customer_id = 148 or customer_id = 526 or customer_id = 178 or customer_id = 137 or customer_id = 144 or customer_id = 459 or customer_id = 181 or customer_id = 410 or customer_id = 236 or customer_id = 403 "
   ]
  },
  {
   "cell_type": "markdown",
   "metadata": {},
   "source": [
    "Question 7)"
   ]
  },
  {
   "cell_type": "markdown",
   "metadata": {},
   "source": [
    "Which one of the two staff had the most transactions?"
   ]
  },
  {
   "cell_type": "markdown",
   "metadata": {},
   "source": [
    "Answer 7)"
   ]
  },
  {
   "cell_type": "markdown",
   "metadata": {},
   "source": [
    "staff 2"
   ]
  },
  {
   "cell_type": "markdown",
   "metadata": {},
   "source": [
    "Question 8)"
   ]
  },
  {
   "cell_type": "markdown",
   "metadata": {},
   "source": [
    "Give me the total of movies of each rating."
   ]
  },
  {
   "cell_type": "markdown",
   "metadata": {},
   "source": [
    "Answer 8)"
   ]
  },
  {
   "cell_type": "markdown",
   "metadata": {},
   "source": [
    "Question 9)"
   ]
  },
  {
   "cell_type": "markdown",
   "metadata": {},
   "source": [
    "rating  |Total Movies\n",
    "\"G\"\t    |178\n",
    "\"PG\"\t|194\n",
    "\"PG-13\"\t|223\n",
    "\"R\"\t    |195\n",
    "\"NC-17\"\t|210"
   ]
  },
  {
   "cell_type": "markdown",
   "metadata": {},
   "source": [
    "How often do people rent movies of certain ratings?"
   ]
  },
  {
   "cell_type": "markdown",
   "metadata": {},
   "source": [
    "Answer 9)"
   ]
  },
  {
   "cell_type": "markdown",
   "metadata": {},
   "source": [
    "sum(rental_rate) |Rating\n",
    "573              | \"R\"\n",
    "623\t             |\"NC-17\"\n",
    "514\t             |\"G\"\n",
    "592\t             |\"PG\"\n",
    "676\t\t         |\"PG-13\""
   ]
  }
 ],
 "metadata": {
  "kernelspec": {
   "display_name": "Python 3",
   "language": "python",
   "name": "python3"
  },
  "language_info": {
   "codemirror_mode": {
    "name": "ipython",
    "version": 3
   },
   "file_extension": ".py",
   "mimetype": "text/x-python",
   "name": "python",
   "nbconvert_exporter": "python",
   "pygments_lexer": "ipython3",
   "version": "3.8.3"
  }
 },
 "nbformat": 4,
 "nbformat_minor": 4
}
